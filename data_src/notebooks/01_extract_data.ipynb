{
 "cells": [
  {
   "cell_type": "code",
   "execution_count": 1,
   "id": "db923ec5",
   "metadata": {},
   "outputs": [
    {
     "name": "stdout",
     "output_type": "stream",
     "text": [
      "Requirement already satisfied: wget in /home/ivo/anaconda3/lib/python3.7/site-packages (3.2)\r\n"
     ]
    }
   ],
   "source": [
    "# ivofernandes thesis \n",
    "\n",
    "#install dependencies\n",
    "import sys\n",
    "\n",
    "!{sys.executable} -m pip install wget"
   ]
  },
  {
   "cell_type": "code",
   "execution_count": 6,
   "id": "584a83c2",
   "metadata": {},
   "outputs": [
    {
     "name": "stdout",
     "output_type": "stream",
     "text": [
      "folder already exists\n",
      "\n",
      "deleting leftovers...\n",
      "\n",
      "something went wrong, please verify locally\n",
      "Pulling data..\n",
      "--2022-03-28 09:43:43--  https://static.openfoodfacts.org/data/en.openfoodfacts.org.products.csv\n",
      "A resolver static.openfoodfacts.org (static.openfoodfacts.org)... 213.36.253.206\n",
      "A ligar a static.openfoodfacts.org (static.openfoodfacts.org)|213.36.253.206|:443... ligado.\n",
      "Pedido HTTP enviado, a aguardar resposta... 200 OK\n",
      "Tamanho: 5819884473 (5,4G) [text/csv]\n",
      "A gravar em: \"../landing_zone/foods.csv\"\n",
      "\n",
      "../landing_zone/foo 100%[===================>]   5,42G  8,65MB/s    em 11m 3s  \n",
      "\n",
      "2022-03-28 09:54:47 (8,37 MB/s) - \"../landing_zone/foods.csv\" gravado [5819884473/5819884473]\n",
      "\n"
     ]
    }
   ],
   "source": [
    "#create path for landing_zone\n",
    "import os\n",
    "import wget\n",
    "\n",
    "\n",
    "try:\n",
    "    #this is folder is ignored in .gitignore\n",
    "    os.makedirs('../landing_zone')\n",
    "    print('landing_zone created')\n",
    "except FileExistsError:\n",
    "    print('folder already exists\\n')\n",
    "    try:\n",
    "        print('deleting leftovers...\\n')\n",
    "        os.remove('../landing_zone/foods.csv')\n",
    "    except:\n",
    "        print('something went wrong, please verify locally')\n",
    "            \n",
    "try:\n",
    "    print('Pulling data..')\n",
    "    !wget -O ../landing_zone/foods.csv 'https://static.openfoodfacts.org/data/en.openfoodfacts.org.products.csv'\n",
    "except:\n",
    "    print('error')\n"
   ]
  },
  {
   "cell_type": "code",
   "execution_count": null,
   "id": "5e94ce3f",
   "metadata": {},
   "outputs": [],
   "source": []
  }
 ],
 "metadata": {
  "kernelspec": {
   "display_name": "Python 3",
   "language": "python",
   "name": "python3"
  },
  "language_info": {
   "codemirror_mode": {
    "name": "ipython",
    "version": 3
   },
   "file_extension": ".py",
   "mimetype": "text/x-python",
   "name": "python",
   "nbconvert_exporter": "python",
   "pygments_lexer": "ipython3",
   "version": "3.7.6"
  }
 },
 "nbformat": 4,
 "nbformat_minor": 5
}
