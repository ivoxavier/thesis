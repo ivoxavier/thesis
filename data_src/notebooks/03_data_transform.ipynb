{
 "cells": [
  {
   "cell_type": "code",
   "execution_count": 1,
   "id": "56fd6d31",
   "metadata": {},
   "outputs": [],
   "source": [
    "import pandas as pd\n",
    "import os\n",
    "import csv"
   ]
  },
  {
   "cell_type": "code",
   "execution_count": 2,
   "id": "6fb236bf",
   "metadata": {},
   "outputs": [],
   "source": [
    "foods_pt = pd.read_csv(\"../cleaned_zone/foods_pt.csv\", delimiter = '\\t', dtype=str)\n",
    "foods_es = pd.read_csv(\"../cleaned_zone/foods_es.csv\", delimiter = '\\t', dtype=str)\n",
    "foods_fr = pd.read_csv(\"../cleaned_zone/foods_fr.csv\", delimiter = '\\t', dtype=str)\n",
    "foods_uk = pd.read_csv(\"../cleaned_zone/foods_uk.csv\", delimiter = '\\t', dtype=str)"
   ]
  },
  {
   "cell_type": "code",
   "execution_count": 3,
   "id": "97d64935",
   "metadata": {},
   "outputs": [
    {
     "name": "stdout",
     "output_type": "stream",
     "text": [
      "Folder already exists\n"
     ]
    }
   ],
   "source": [
    "try:\n",
    "    os.makedirs('../transformed_zone')\n",
    "except FileExistsError:\n",
    "    print('Folder already exists')"
   ]
  },
  {
   "cell_type": "code",
   "execution_count": 4,
   "id": "2d4223a6",
   "metadata": {},
   "outputs": [],
   "source": [
    "#create xml files from csv ones\n",
    "\n",
    "with open('../transformed_zone/foods_pt.xml', 'w') as foods_pt_xml: \n",
    "    foods_pt_xml.write(foods_pt.to_xml())\n",
    "\n",
    "with open('../transformed_zone/foods_es.xml', 'w') as foods_es_xml: \n",
    "    foods_es_xml.write(foods_es.to_xml())\n",
    "\n",
    "with open('../transformed_zone/foods_fr.xml', 'w') as foods_fr_xml: \n",
    "    foods_fr_xml.write(foods_fr.to_xml())\n",
    "\n",
    "with open('../transformed_zone/foods_uk.xml', 'w') as foods_uk_xml: \n",
    "    foods_uk_xml.write(foods_uk.to_xml())"
   ]
  },
  {
   "cell_type": "code",
   "execution_count": null,
   "id": "fd1567f1",
   "metadata": {},
   "outputs": [],
   "source": []
  }
 ],
 "metadata": {
  "kernelspec": {
   "display_name": "Python 3",
   "language": "python",
   "name": "python3"
  },
  "language_info": {
   "codemirror_mode": {
    "name": "ipython",
    "version": 3
   },
   "file_extension": ".py",
   "mimetype": "text/x-python",
   "name": "python",
   "nbconvert_exporter": "python",
   "pygments_lexer": "ipython3",
   "version": "3.7.6"
  }
 },
 "nbformat": 4,
 "nbformat_minor": 5
}
