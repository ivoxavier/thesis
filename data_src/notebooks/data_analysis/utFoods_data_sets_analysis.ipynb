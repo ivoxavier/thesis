{
 "cells": [
  {
   "cell_type": "markdown",
   "id": "b314ccb9",
   "metadata": {},
   "source": [
    "## utFoods: Consumption Analysis<hr style=\"border:4.5px solid #108999\"> </hr> Ivo Fernandes PG27165"
   ]
  },
  {
   "cell_type": "markdown",
   "id": "1eea4636",
   "metadata": {},
   "source": [
    "### Data Import\n",
    "\n",
    "The data I will analyze is base on 5 datasets, namely: <b>Ingestions</b>; <b>Sport Tracker</b>; <b>User Profile</b>; <b>Water Tracker</b>; <b>Weight Tracker</b>.<br><br>These were received from the testers in the testing phase. Tester n.2 had problems with device and couldn't participate."
   ]
  },
  {
   "cell_type": "code",
   "execution_count": 1,
   "id": "4e228413",
   "metadata": {},
   "outputs": [],
   "source": [
    "import pandas as pd\n",
    "import numpy as np\n",
    "import matplotlib.pyplot as plt\n",
    "\n",
    "#imports the files and set the id as index_col.\n",
    "\n",
    "csv_1_ingestion = pd.read_csv('../../utFoods_data_sets/utFoods_ingestions_table_1.csv')\n",
    "csv_1_sport = pd.read_csv('../../utFoods_data_sets/utFoods_sport_tracker_table_1.csv')\n",
    "csv_1_user = pd.read_csv('../../utFoods_data_sets/utFoods_user_table_1.csv')\n",
    "csv_1_water = pd.read_csv('../../utFoods_data_sets/utFoods_water_tracker_table_1.csv')\n",
    "csv_1_weight_track = pd.read_csv('../../utFoods_data_sets/utFoods_weight_tracker_table_1.csv')\n",
    "\n",
    "csv_3_ingestion = pd.read_csv('../../utFoods_data_sets/utFoods_ingestions_table_3.csv')\n",
    "csv_3_sport = pd.read_csv('../../utFoods_data_sets/utFoods_sport_tracker_table_3.csv')\n",
    "csv_3_user = pd.read_csv('../../utFoods_data_sets/utFoods_user_table_3.csv')\n",
    "csv_3_water = pd.read_csv('../../utFoods_data_sets/utFoods_water_tracker_table_3.csv')\n",
    "csv_3_weight_track = pd.read_csv('../../utFoods_data_sets/utFoods_weight_tracker_table_3.csv')\n",
    "\n",
    "csv_4_ingestion = pd.read_csv('../../utFoods_data_sets/utFoods_ingestions_table_4.csv')\n",
    "csv_4_sport = pd.read_csv('../../utFoods_data_sets/utFoods_sport_tracker_table_4.csv')\n",
    "csv_4_user = pd.read_csv('../../utFoods_data_sets/utFoods_user_table_4.csv')\n",
    "csv_4_water = pd.read_csv('../../utFoods_data_sets/utFoods_water_tracker_table_4.csv')\n",
    "csv_4_weight_track = pd.read_csv('../../utFoods_data_sets/utFoods_weight_tracker_table_4.csv')\n",
    "\n",
    "csv_5_ingestion = pd.read_csv('../../utFoods_data_sets/utFoods_ingestions_table_5.csv')\n",
    "csv_5_sport = pd.read_csv('../../utFoods_data_sets/utFoods_sport_tracker_table_5.csv')\n",
    "csv_5_user = pd.read_csv('../../utFoods_data_sets/utFoods_user_table_5.csv')\n",
    "csv_5_water = pd.read_csv('../../utFoods_data_sets/utFoods_water_tracker_table_5.csv')\n",
    "csv_5_weight_track = pd.read_csv('../../utFoods_data_sets/utFoods_weight_tracker_table_5.csv')"
   ]
  },
  {
   "cell_type": "markdown",
   "id": "410cd4ef",
   "metadata": {},
   "source": [
    "All the dataSets have the same column, thus, for example df_1_ingestions are equal and can be merged with others df_ingestions.<br><br>\n",
    "Through this analysis, gives better understanding the data I'm going to use and what values to expect in each of the columns of dataSets."
   ]
  },
  {
   "cell_type": "code",
   "execution_count": 2,
   "id": "9dec91dc",
   "metadata": {},
   "outputs": [
    {
     "name": "stdout",
     "output_type": "stream",
     "text": [
      "<class 'pandas.core.frame.DataFrame'>\n",
      "RangeIndex: 5 entries, 0 to 4\n",
      "Data columns (total 10 columns):\n",
      " #   Column      Dtype  \n",
      "---  ------      -----  \n",
      " 0   id          int64  \n",
      " 1   id_user     int64  \n",
      " 2   name        object \n",
      " 3   nutriscore  object \n",
      " 4   cal         int64  \n",
      " 5   fat         float64\n",
      " 6   carbo       float64\n",
      " 7   protein     float64\n",
      " 8   date        object \n",
      " 9   meal        int64  \n",
      "dtypes: float64(3), int64(4), object(3)None\n",
      "(5, 10)\n",
      "<class 'pandas.core.frame.DataFrame'>\n",
      "RangeIndex: 1 entries, 0 to 0\n",
      "Data columns (total 5 columns):\n",
      " #   Column    Dtype \n",
      "---  ------    ----- \n",
      " 0   id        int64 \n",
      " 1   id_user   int64 \n",
      " 2   sport     object\n",
      " 3   duration  int64 \n",
      " 4   date      object\n",
      "dtypes: int64(3), object(2)None\n",
      "<class 'pandas.core.frame.DataFrame'>\n",
      "RangeIndex: 1 entries, 0 to 0\n",
      "Data columns (total 9 columns):\n",
      " #   Column        Dtype  \n",
      "---  ------        -----  \n",
      " 0   id            int64  \n",
      " 1   age           int64  \n",
      " 2   sex_at_birth  int64  \n",
      " 3   weight        float64\n",
      " 4   height        int64  \n",
      " 5   activity      int64  \n",
      " 6   rec_cal       int64  \n",
      " 7   ap_lo         int64  \n",
      " 8   ap_hi         int64  \n",
      "dtypes: float64(1), int64(8)None\n",
      "<class 'pandas.core.frame.DataFrame'>\n",
      "RangeIndex: 10 entries, 0 to 9\n",
      "Data columns (total 4 columns):\n",
      " #   Column   Dtype \n",
      "---  ------   ----- \n",
      " 0   id       int64 \n",
      " 1   id_user  int64 \n",
      " 2   cups     int64 \n",
      " 3   date     object\n",
      "dtypes: int64(3), object(1)None\n",
      "<class 'pandas.core.frame.DataFrame'>\n",
      "RangeIndex: 1 entries, 0 to 0\n",
      "Data columns (total 4 columns):\n",
      " #   Column   Dtype  \n",
      "---  ------   -----  \n",
      " 0   id       int64  \n",
      " 1   id_user  int64  \n",
      " 2   weight   float64\n",
      " 3   date     object \n",
      "dtypes: float64(1), int64(2), object(1)None\n"
     ]
    }
   ],
   "source": [
    "#prints the info about the dataset. Here we took csv_1,just, for reference\n",
    "print(csv_1_ingestion.info(show_counts=False, memory_usage= False))\n",
    "print(csv_1_ingestion.shape)\n",
    "print(csv_1_sport.info(show_counts=False, memory_usage= False))\n",
    "print(csv_1_user.info(show_counts=False, memory_usage= False))\n",
    "print(csv_1_water.info(show_counts=False, memory_usage= False))\n",
    "print(csv_1_weight_track.info(show_counts=False, memory_usage= False))"
   ]
  },
  {
   "cell_type": "markdown",
   "id": "b5d4c199",
   "metadata": {},
   "source": [
    "### Data Transform\n",
    "To avoid having various datasets of the same type I'm going merge all the ingestions with ingestions; all the users with users etc."
   ]
  },
  {
   "cell_type": "code",
   "execution_count": 3,
   "id": "07becc0a",
   "metadata": {},
   "outputs": [],
   "source": [
    "df_user = pd.concat([csv_1_user,\n",
    "                           csv_3_user,\n",
    "                           csv_4_user,\n",
    "                           csv_5_user],\n",
    "                          ignore_index = True)\n",
    "\n",
    "\n",
    "df_ingestions = pd.concat([csv_1_ingestion.drop(['id'], axis = 1),\n",
    "                           csv_3_ingestion.drop(['id'], axis = 1),\n",
    "                           csv_4_ingestion.drop(['id'], axis = 1),\n",
    "                           csv_5_ingestion.drop(['id'], axis = 1)],\n",
    "                          ignore_index = True)\n",
    "\n",
    "\n",
    "df_sport = pd.concat([csv_1_sport.drop(['id'], axis = 1),\n",
    "                           csv_3_sport.drop(['id'], axis = 1),\n",
    "                           csv_4_sport.drop(['id'], axis = 1),\n",
    "                           csv_5_sport.drop(['id'], axis = 1)],\n",
    "                          ignore_index = True)\n",
    "\n",
    "\n",
    "df_water = pd.concat([csv_1_water.drop(['id'], axis = 1),\n",
    "                           csv_3_water.drop(['id'], axis = 1),\n",
    "                           csv_4_water.drop(['id'], axis = 1),\n",
    "                           csv_5_water.drop(['id'], axis = 1)],\n",
    "                          ignore_index = True)\n",
    "\n",
    "df_weight_tracker = pd.concat([csv_1_weight_track.drop(['id'], axis = 1),\n",
    "                           csv_3_weight_track.drop(['id'], axis = 1),\n",
    "                           csv_4_weight_track.drop(['id'], axis = 1),\n",
    "                           csv_5_weight_track.drop(['id'], axis = 1)],\n",
    "                          ignore_index = True)"
   ]
  },
  {
   "cell_type": "code",
   "execution_count": 4,
   "id": "90d24417",
   "metadata": {},
   "outputs": [
    {
     "data": {
      "text/html": [
       "<div>\n",
       "<style scoped>\n",
       "    .dataframe tbody tr th:only-of-type {\n",
       "        vertical-align: middle;\n",
       "    }\n",
       "\n",
       "    .dataframe tbody tr th {\n",
       "        vertical-align: top;\n",
       "    }\n",
       "\n",
       "    .dataframe thead th {\n",
       "        text-align: right;\n",
       "    }\n",
       "</style>\n",
       "<table border=\"1\" class=\"dataframe\">\n",
       "  <thead>\n",
       "    <tr style=\"text-align: right;\">\n",
       "      <th></th>\n",
       "      <th>id</th>\n",
       "      <th>age</th>\n",
       "      <th>sex_at_birth</th>\n",
       "      <th>weight</th>\n",
       "      <th>height</th>\n",
       "      <th>activity</th>\n",
       "      <th>rec_cal</th>\n",
       "      <th>ap_lo</th>\n",
       "      <th>ap_hi</th>\n",
       "    </tr>\n",
       "  </thead>\n",
       "  <tbody>\n",
       "    <tr>\n",
       "      <th>0</th>\n",
       "      <td>1</td>\n",
       "      <td>56</td>\n",
       "      <td>0</td>\n",
       "      <td>80.0</td>\n",
       "      <td>176</td>\n",
       "      <td>1</td>\n",
       "      <td>1888</td>\n",
       "      <td>85</td>\n",
       "      <td>125</td>\n",
       "    </tr>\n",
       "    <tr>\n",
       "      <th>1</th>\n",
       "      <td>3</td>\n",
       "      <td>31</td>\n",
       "      <td>1</td>\n",
       "      <td>65.0</td>\n",
       "      <td>169</td>\n",
       "      <td>2</td>\n",
       "      <td>2224</td>\n",
       "      <td>65</td>\n",
       "      <td>110</td>\n",
       "    </tr>\n",
       "    <tr>\n",
       "      <th>2</th>\n",
       "      <td>4</td>\n",
       "      <td>32</td>\n",
       "      <td>0</td>\n",
       "      <td>68.0</td>\n",
       "      <td>170</td>\n",
       "      <td>1</td>\n",
       "      <td>1831</td>\n",
       "      <td>75</td>\n",
       "      <td>110</td>\n",
       "    </tr>\n",
       "    <tr>\n",
       "      <th>3</th>\n",
       "      <td>5</td>\n",
       "      <td>27</td>\n",
       "      <td>0</td>\n",
       "      <td>65.0</td>\n",
       "      <td>160</td>\n",
       "      <td>0</td>\n",
       "      <td>1976</td>\n",
       "      <td>79</td>\n",
       "      <td>100</td>\n",
       "    </tr>\n",
       "  </tbody>\n",
       "</table>\n",
       "</div>"
      ],
      "text/plain": [
       "   id  age  sex_at_birth  weight  height  activity  rec_cal  ap_lo  ap_hi\n",
       "0   1   56             0    80.0     176         1     1888     85    125\n",
       "1   3   31             1    65.0     169         2     2224     65    110\n",
       "2   4   32             0    68.0     170         1     1831     75    110\n",
       "3   5   27             0    65.0     160         0     1976     79    100"
      ]
     },
     "execution_count": 4,
     "metadata": {},
     "output_type": "execute_result"
    }
   ],
   "source": [
    "df_user.head()"
   ]
  },
  {
   "cell_type": "code",
   "execution_count": 5,
   "id": "f9ba1ed0",
   "metadata": {},
   "outputs": [
    {
     "data": {
      "text/html": [
       "<div>\n",
       "<style scoped>\n",
       "    .dataframe tbody tr th:only-of-type {\n",
       "        vertical-align: middle;\n",
       "    }\n",
       "\n",
       "    .dataframe tbody tr th {\n",
       "        vertical-align: top;\n",
       "    }\n",
       "\n",
       "    .dataframe thead th {\n",
       "        text-align: right;\n",
       "    }\n",
       "</style>\n",
       "<table border=\"1\" class=\"dataframe\">\n",
       "  <thead>\n",
       "    <tr style=\"text-align: right;\">\n",
       "      <th></th>\n",
       "      <th>id_user</th>\n",
       "      <th>name</th>\n",
       "      <th>nutriscore</th>\n",
       "      <th>cal</th>\n",
       "      <th>fat</th>\n",
       "      <th>carbo</th>\n",
       "      <th>protein</th>\n",
       "      <th>date</th>\n",
       "      <th>meal</th>\n",
       "    </tr>\n",
       "  </thead>\n",
       "  <tbody>\n",
       "    <tr>\n",
       "      <th>0</th>\n",
       "      <td>1</td>\n",
       "      <td>Florida</td>\n",
       "      <td>e</td>\n",
       "      <td>29</td>\n",
       "      <td>0.1</td>\n",
       "      <td>6.7</td>\n",
       "      <td>0.1</td>\n",
       "      <td>2022-05-06</td>\n",
       "      <td>0</td>\n",
       "    </tr>\n",
       "    <tr>\n",
       "      <th>1</th>\n",
       "      <td>1</td>\n",
       "      <td>Arroz Thai Negro Germinado</td>\n",
       "      <td>a</td>\n",
       "      <td>358</td>\n",
       "      <td>0.0</td>\n",
       "      <td>73.0</td>\n",
       "      <td>8.5</td>\n",
       "      <td>2022-05-06</td>\n",
       "      <td>1</td>\n",
       "    </tr>\n",
       "    <tr>\n",
       "      <th>2</th>\n",
       "      <td>1</td>\n",
       "      <td>Merluza del cabo filletes</td>\n",
       "      <td>a</td>\n",
       "      <td>74</td>\n",
       "      <td>0.5</td>\n",
       "      <td>0.1</td>\n",
       "      <td>17.6</td>\n",
       "      <td>2022-05-07</td>\n",
       "      <td>1</td>\n",
       "    </tr>\n",
       "    <tr>\n",
       "      <th>3</th>\n",
       "      <td>1</td>\n",
       "      <td>Chili con carne</td>\n",
       "      <td>c</td>\n",
       "      <td>85</td>\n",
       "      <td>1.0</td>\n",
       "      <td>11.0</td>\n",
       "      <td>6.5</td>\n",
       "      <td>2022-05-07</td>\n",
       "      <td>2</td>\n",
       "    </tr>\n",
       "    <tr>\n",
       "      <th>4</th>\n",
       "      <td>1</td>\n",
       "      <td>Zumo de piña</td>\n",
       "      <td>b</td>\n",
       "      <td>27</td>\n",
       "      <td>0.0</td>\n",
       "      <td>6.3</td>\n",
       "      <td>0.3</td>\n",
       "      <td>2022-05-07</td>\n",
       "      <td>0</td>\n",
       "    </tr>\n",
       "  </tbody>\n",
       "</table>\n",
       "</div>"
      ],
      "text/plain": [
       "   id_user                        name nutriscore  cal  fat  carbo  protein  \\\n",
       "0        1                     Florida          e   29  0.1    6.7      0.1   \n",
       "1        1  Arroz Thai Negro Germinado          a  358  0.0   73.0      8.5   \n",
       "2        1   Merluza del cabo filletes          a   74  0.5    0.1     17.6   \n",
       "3        1             Chili con carne          c   85  1.0   11.0      6.5   \n",
       "4        1                Zumo de piña          b   27  0.0    6.3      0.3   \n",
       "\n",
       "         date  meal  \n",
       "0  2022-05-06     0  \n",
       "1  2022-05-06     1  \n",
       "2  2022-05-07     1  \n",
       "3  2022-05-07     2  \n",
       "4  2022-05-07     0  "
      ]
     },
     "execution_count": 5,
     "metadata": {},
     "output_type": "execute_result"
    }
   ],
   "source": [
    "df_ingestions.head()"
   ]
  },
  {
   "cell_type": "code",
   "execution_count": 6,
   "id": "56e2023d",
   "metadata": {},
   "outputs": [
    {
     "data": {
      "text/html": [
       "<div>\n",
       "<style scoped>\n",
       "    .dataframe tbody tr th:only-of-type {\n",
       "        vertical-align: middle;\n",
       "    }\n",
       "\n",
       "    .dataframe tbody tr th {\n",
       "        vertical-align: top;\n",
       "    }\n",
       "\n",
       "    .dataframe thead th {\n",
       "        text-align: right;\n",
       "    }\n",
       "</style>\n",
       "<table border=\"1\" class=\"dataframe\">\n",
       "  <thead>\n",
       "    <tr style=\"text-align: right;\">\n",
       "      <th></th>\n",
       "      <th>id_user</th>\n",
       "      <th>sport</th>\n",
       "      <th>duration</th>\n",
       "      <th>date</th>\n",
       "    </tr>\n",
       "  </thead>\n",
       "  <tbody>\n",
       "    <tr>\n",
       "      <th>0</th>\n",
       "      <td>1</td>\n",
       "      <td>Caminata lenta a 4,5 km/h</td>\n",
       "      <td>30</td>\n",
       "      <td>2022-05-06</td>\n",
       "    </tr>\n",
       "    <tr>\n",
       "      <th>1</th>\n",
       "      <td>5</td>\n",
       "      <td>Caminhada lenta a 4,5 km/h</td>\n",
       "      <td>15</td>\n",
       "      <td>2022-05-14</td>\n",
       "    </tr>\n",
       "  </tbody>\n",
       "</table>\n",
       "</div>"
      ],
      "text/plain": [
       "  id_user                       sport duration        date\n",
       "0       1  Caminata lenta a 4,5 km/h        30  2022-05-06\n",
       "1       5  Caminhada lenta a 4,5 km/h       15  2022-05-14"
      ]
     },
     "execution_count": 6,
     "metadata": {},
     "output_type": "execute_result"
    }
   ],
   "source": [
    "df_sport.head()"
   ]
  },
  {
   "cell_type": "code",
   "execution_count": 7,
   "id": "694457cb",
   "metadata": {},
   "outputs": [
    {
     "data": {
      "text/html": [
       "<div>\n",
       "<style scoped>\n",
       "    .dataframe tbody tr th:only-of-type {\n",
       "        vertical-align: middle;\n",
       "    }\n",
       "\n",
       "    .dataframe tbody tr th {\n",
       "        vertical-align: top;\n",
       "    }\n",
       "\n",
       "    .dataframe thead th {\n",
       "        text-align: right;\n",
       "    }\n",
       "</style>\n",
       "<table border=\"1\" class=\"dataframe\">\n",
       "  <thead>\n",
       "    <tr style=\"text-align: right;\">\n",
       "      <th></th>\n",
       "      <th>id_user</th>\n",
       "      <th>cups</th>\n",
       "      <th>date</th>\n",
       "    </tr>\n",
       "  </thead>\n",
       "  <tbody>\n",
       "    <tr>\n",
       "      <th>0</th>\n",
       "      <td>1</td>\n",
       "      <td>1</td>\n",
       "      <td>2022-05-06</td>\n",
       "    </tr>\n",
       "    <tr>\n",
       "      <th>1</th>\n",
       "      <td>1</td>\n",
       "      <td>1</td>\n",
       "      <td>2022-05-06</td>\n",
       "    </tr>\n",
       "    <tr>\n",
       "      <th>2</th>\n",
       "      <td>1</td>\n",
       "      <td>1</td>\n",
       "      <td>2022-05-06</td>\n",
       "    </tr>\n",
       "    <tr>\n",
       "      <th>3</th>\n",
       "      <td>1</td>\n",
       "      <td>1</td>\n",
       "      <td>2022-05-06</td>\n",
       "    </tr>\n",
       "    <tr>\n",
       "      <th>4</th>\n",
       "      <td>1</td>\n",
       "      <td>1</td>\n",
       "      <td>2022-05-06</td>\n",
       "    </tr>\n",
       "  </tbody>\n",
       "</table>\n",
       "</div>"
      ],
      "text/plain": [
       "   id_user  cups        date\n",
       "0        1     1  2022-05-06\n",
       "1        1     1  2022-05-06\n",
       "2        1     1  2022-05-06\n",
       "3        1     1  2022-05-06\n",
       "4        1     1  2022-05-06"
      ]
     },
     "execution_count": 7,
     "metadata": {},
     "output_type": "execute_result"
    }
   ],
   "source": [
    "df_water.head()"
   ]
  },
  {
   "cell_type": "code",
   "execution_count": 8,
   "id": "19e1db0d",
   "metadata": {},
   "outputs": [
    {
     "data": {
      "text/html": [
       "<div>\n",
       "<style scoped>\n",
       "    .dataframe tbody tr th:only-of-type {\n",
       "        vertical-align: middle;\n",
       "    }\n",
       "\n",
       "    .dataframe tbody tr th {\n",
       "        vertical-align: top;\n",
       "    }\n",
       "\n",
       "    .dataframe thead th {\n",
       "        text-align: right;\n",
       "    }\n",
       "</style>\n",
       "<table border=\"1\" class=\"dataframe\">\n",
       "  <thead>\n",
       "    <tr style=\"text-align: right;\">\n",
       "      <th></th>\n",
       "      <th>id_user</th>\n",
       "      <th>weight</th>\n",
       "      <th>date</th>\n",
       "    </tr>\n",
       "  </thead>\n",
       "  <tbody>\n",
       "    <tr>\n",
       "      <th>0</th>\n",
       "      <td>1</td>\n",
       "      <td>80.0</td>\n",
       "      <td>2022-05-06</td>\n",
       "    </tr>\n",
       "    <tr>\n",
       "      <th>1</th>\n",
       "      <td>3</td>\n",
       "      <td>65.0</td>\n",
       "      <td>2022-05-09</td>\n",
       "    </tr>\n",
       "    <tr>\n",
       "      <th>2</th>\n",
       "      <td>4</td>\n",
       "      <td>68.0</td>\n",
       "      <td>2022-05-06</td>\n",
       "    </tr>\n",
       "    <tr>\n",
       "      <th>3</th>\n",
       "      <td>5</td>\n",
       "      <td>65.0</td>\n",
       "      <td>2022-05-06</td>\n",
       "    </tr>\n",
       "  </tbody>\n",
       "</table>\n",
       "</div>"
      ],
      "text/plain": [
       "   id_user  weight        date\n",
       "0        1    80.0  2022-05-06\n",
       "1        3    65.0  2022-05-09\n",
       "2        4    68.0  2022-05-06\n",
       "3        5    65.0  2022-05-06"
      ]
     },
     "execution_count": 8,
     "metadata": {},
     "output_type": "execute_result"
    }
   ],
   "source": [
    "df_weight_tracker.head()"
   ]
  },
  {
   "cell_type": "markdown",
   "id": "f2bd3c43",
   "metadata": {},
   "source": [
    "In the User dataSet a transformation can be made, that is translate the values of ap_hi and ap_lo into the Blood Pressure Category\n"
   ]
  },
  {
   "cell_type": "code",
   "execution_count": 9,
   "id": "1a7ee1a9",
   "metadata": {},
   "outputs": [],
   "source": [
    "sex_label = pd.Series([],dtype= \"str\")\n",
    "\n",
    "sex_column= df_user[['sex_at_birth']]\n",
    "\n",
    "for i in range(len(sex_column)):\n",
    "    if sex_column[\"sex_at_birth\"][i] == 0:\n",
    "        sex_label[i]=\"Male\"\n",
    " \n",
    "    else:\n",
    "        sex_label[i]=\"Female\"\n",
    "\n",
    "df_user.insert(loc = 3,\n",
    "              column = \"sex_label\",\n",
    "              value = sex_label)\n",
    "\n",
    "\n",
    "activity_label = pd.Series([],dtype= \"str\")\n",
    "\n",
    "activity_column = df_user[['activity']]\n",
    "\n",
    "for i in range(len(activity_column)):\n",
    "    if activity_column[\"activity\"][i] == 0:\n",
    "        activity_label[i]=\"Very Light\"\n",
    "    \n",
    "    elif activity_column[\"activity\"][i] == 1:\n",
    "        activity_label[i]=\"Light\"\n",
    "        \n",
    "    elif activity_column[\"activity\"][i] == 2:\n",
    "        activity_label[i]=\"Moderate\"\n",
    " \n",
    "    else:\n",
    "        activity_label = \"Heavy\"\n",
    "\n",
    "df_user.insert(loc = 7,\n",
    "              column = \"activity_label\",\n",
    "              value = activity_label)\n",
    "\n",
    "\n",
    "blood_pressure_categorie = pd.Series([],dtype= \"str\")\n",
    "\n",
    "data_in_columns = df_user[['ap_hi','ap_lo']]\n",
    "\n",
    "for i in range(len(data_in_columns)):\n",
    "    if data_in_columns[\"ap_hi\"][i] < 120 and data_in_columns[\"ap_lo\"][i] < 80:\n",
    "        blood_pressure_categorie[i]=\"Normal\"\n",
    " \n",
    "    elif data_in_columns[\"ap_hi\"][i] >= 120 and data_in_columns[\"ap_hi\"][i] < 129 and data_in_columns[\"ap_lo\"][i] < 80:\n",
    "        blood_pressure_categorie[i]=\"Elevated\"\n",
    " \n",
    "    elif data_in_columns[\"ap_hi\"][i] >= 130 and data_in_columns[\"ap_hi\"][i] < 139 or data_in_columns[\"ap_lo\"][i] >= 80 and data_in_columns[\"ap_lo\"][i] < 89:\n",
    "        blood_pressure_categorie[i]=\"Hight Blood Pressure Stage I\"\n",
    "    \n",
    "    elif data_in_columns[\"ap_hi\"][i] >= 140 and data_in_columns[\"ap_lo\"][i] >= 90:\n",
    "        blood_pressure_categorie[i]=\"Hight Blood Pressure Stage II\"\n",
    " \n",
    "    else:\n",
    "        blood_pressure_categorie[i]=\"Hipertensive Crisis\"\n",
    "\n",
    "df_user.insert(loc = 11,\n",
    "              column = \"blood_pressure\",\n",
    "              value = blood_pressure_categorie)\n",
    "\n"
   ]
  },
  {
   "cell_type": "code",
   "execution_count": 10,
   "id": "ba951314",
   "metadata": {},
   "outputs": [
    {
     "data": {
      "text/html": [
       "<div>\n",
       "<style scoped>\n",
       "    .dataframe tbody tr th:only-of-type {\n",
       "        vertical-align: middle;\n",
       "    }\n",
       "\n",
       "    .dataframe tbody tr th {\n",
       "        vertical-align: top;\n",
       "    }\n",
       "\n",
       "    .dataframe thead th {\n",
       "        text-align: right;\n",
       "    }\n",
       "</style>\n",
       "<table border=\"1\" class=\"dataframe\">\n",
       "  <thead>\n",
       "    <tr style=\"text-align: right;\">\n",
       "      <th></th>\n",
       "      <th>id</th>\n",
       "      <th>age</th>\n",
       "      <th>sex_at_birth</th>\n",
       "      <th>sex_label</th>\n",
       "      <th>weight</th>\n",
       "      <th>height</th>\n",
       "      <th>activity</th>\n",
       "      <th>activity_label</th>\n",
       "      <th>rec_cal</th>\n",
       "      <th>ap_lo</th>\n",
       "      <th>ap_hi</th>\n",
       "      <th>blood_pressure</th>\n",
       "    </tr>\n",
       "  </thead>\n",
       "  <tbody>\n",
       "    <tr>\n",
       "      <th>0</th>\n",
       "      <td>1</td>\n",
       "      <td>56</td>\n",
       "      <td>0</td>\n",
       "      <td>Male</td>\n",
       "      <td>80.0</td>\n",
       "      <td>176</td>\n",
       "      <td>1</td>\n",
       "      <td>Light</td>\n",
       "      <td>1888</td>\n",
       "      <td>85</td>\n",
       "      <td>125</td>\n",
       "      <td>Hight Blood Pressure Stage I</td>\n",
       "    </tr>\n",
       "    <tr>\n",
       "      <th>1</th>\n",
       "      <td>3</td>\n",
       "      <td>31</td>\n",
       "      <td>1</td>\n",
       "      <td>Female</td>\n",
       "      <td>65.0</td>\n",
       "      <td>169</td>\n",
       "      <td>2</td>\n",
       "      <td>Moderate</td>\n",
       "      <td>2224</td>\n",
       "      <td>65</td>\n",
       "      <td>110</td>\n",
       "      <td>Normal</td>\n",
       "    </tr>\n",
       "    <tr>\n",
       "      <th>2</th>\n",
       "      <td>4</td>\n",
       "      <td>32</td>\n",
       "      <td>0</td>\n",
       "      <td>Male</td>\n",
       "      <td>68.0</td>\n",
       "      <td>170</td>\n",
       "      <td>1</td>\n",
       "      <td>Light</td>\n",
       "      <td>1831</td>\n",
       "      <td>75</td>\n",
       "      <td>110</td>\n",
       "      <td>Normal</td>\n",
       "    </tr>\n",
       "    <tr>\n",
       "      <th>3</th>\n",
       "      <td>5</td>\n",
       "      <td>27</td>\n",
       "      <td>0</td>\n",
       "      <td>Male</td>\n",
       "      <td>65.0</td>\n",
       "      <td>160</td>\n",
       "      <td>0</td>\n",
       "      <td>Very Light</td>\n",
       "      <td>1976</td>\n",
       "      <td>79</td>\n",
       "      <td>100</td>\n",
       "      <td>Normal</td>\n",
       "    </tr>\n",
       "  </tbody>\n",
       "</table>\n",
       "</div>"
      ],
      "text/plain": [
       "   id  age  sex_at_birth sex_label  weight  height  activity activity_label  \\\n",
       "0   1   56             0      Male    80.0     176         1          Light   \n",
       "1   3   31             1    Female    65.0     169         2       Moderate   \n",
       "2   4   32             0      Male    68.0     170         1          Light   \n",
       "3   5   27             0      Male    65.0     160         0     Very Light   \n",
       "\n",
       "   rec_cal  ap_lo  ap_hi                blood_pressure  \n",
       "0     1888     85    125  Hight Blood Pressure Stage I  \n",
       "1     2224     65    110                        Normal  \n",
       "2     1831     75    110                        Normal  \n",
       "3     1976     79    100                        Normal  "
      ]
     },
     "execution_count": 10,
     "metadata": {},
     "output_type": "execute_result"
    }
   ],
   "source": [
    "df_user.head()"
   ]
  },
  {
   "cell_type": "markdown",
   "id": "2617442b",
   "metadata": {},
   "source": [
    "In the Ingestions dataSet a transformation can be made, that is add a nutriscore label for nutriscore, and label "
   ]
  },
  {
   "cell_type": "code",
   "execution_count": 11,
   "id": "51e1c64a",
   "metadata": {},
   "outputs": [],
   "source": [
    "nutriscore_label = pd.Series([],dtype= \"str\")\n",
    "\n",
    "nutriscore_column= df_ingestions[['nutriscore']]\n",
    "\n",
    "for i in range(len(nutriscore_column)):\n",
    "    if nutriscore_column[\"nutriscore\"][i] == \"a\":\n",
    "        nutriscore_label[i]=\"Very Good Nutritional Quality\"\n",
    " \n",
    "    elif nutriscore_column[\"nutriscore\"][i] == \"b\":\n",
    "        nutriscore_label[i]=\"Good Nutritional Quality\"\n",
    " \n",
    "    elif nutriscore_column[\"nutriscore\"][i] == \"c\":\n",
    "        nutriscore_label[i]=\"Average Nutritional Quality\"\n",
    "    \n",
    "    elif nutriscore_column[\"nutriscore\"][i] == \"d\":\n",
    "        nutriscore_label[i]=\"Poor Nutritional Quality\"\n",
    " \n",
    "    else:\n",
    "        nutriscore_label[i]=\"Bad Nutritional Quality\"\n",
    "\n",
    "df_ingestions.insert(loc = 3,\n",
    "              column = \"nutriscore_label\",\n",
    "              value = nutriscore_label)\n",
    "\n",
    "meal_label = pd.Series([],dtype= \"str\")\n",
    "\n",
    "meal_column= df_ingestions[['meal']]\n",
    "\n",
    "for i in range(len(meal_column)):\n",
    "    if meal_column[\"meal\"][i] == 0:\n",
    "        meal_label[i]=\"Breakfast\"\n",
    " \n",
    "    elif meal_column[\"meal\"][i] == 1:\n",
    "        meal_label[i]=\"Lunch\"\n",
    " \n",
    "    elif meal_column[\"meal\"][i] == 2:\n",
    "        meal_label[i]=\"Dinner\"\n",
    " \n",
    "    else:\n",
    "        meal_label[i]=\"Snacks\"\n",
    "\n",
    "df_ingestions.insert(loc = 10,\n",
    "              column = \"meal_label\",\n",
    "              value = meal_label)"
   ]
  },
  {
   "cell_type": "code",
   "execution_count": 12,
   "id": "9cac996b",
   "metadata": {},
   "outputs": [
    {
     "data": {
      "text/html": [
       "<div>\n",
       "<style scoped>\n",
       "    .dataframe tbody tr th:only-of-type {\n",
       "        vertical-align: middle;\n",
       "    }\n",
       "\n",
       "    .dataframe tbody tr th {\n",
       "        vertical-align: top;\n",
       "    }\n",
       "\n",
       "    .dataframe thead th {\n",
       "        text-align: right;\n",
       "    }\n",
       "</style>\n",
       "<table border=\"1\" class=\"dataframe\">\n",
       "  <thead>\n",
       "    <tr style=\"text-align: right;\">\n",
       "      <th></th>\n",
       "      <th>id_user</th>\n",
       "      <th>name</th>\n",
       "      <th>nutriscore</th>\n",
       "      <th>nutriscore_label</th>\n",
       "      <th>cal</th>\n",
       "      <th>fat</th>\n",
       "      <th>carbo</th>\n",
       "      <th>protein</th>\n",
       "      <th>date</th>\n",
       "      <th>meal</th>\n",
       "      <th>meal_label</th>\n",
       "    </tr>\n",
       "  </thead>\n",
       "  <tbody>\n",
       "    <tr>\n",
       "      <th>0</th>\n",
       "      <td>1</td>\n",
       "      <td>Florida</td>\n",
       "      <td>e</td>\n",
       "      <td>Bad Nutritional Quality</td>\n",
       "      <td>29</td>\n",
       "      <td>0.1</td>\n",
       "      <td>6.7</td>\n",
       "      <td>0.1</td>\n",
       "      <td>2022-05-06</td>\n",
       "      <td>0</td>\n",
       "      <td>Breakfast</td>\n",
       "    </tr>\n",
       "    <tr>\n",
       "      <th>1</th>\n",
       "      <td>1</td>\n",
       "      <td>Arroz Thai Negro Germinado</td>\n",
       "      <td>a</td>\n",
       "      <td>Very Good Nutritional Quality</td>\n",
       "      <td>358</td>\n",
       "      <td>0.0</td>\n",
       "      <td>73.0</td>\n",
       "      <td>8.5</td>\n",
       "      <td>2022-05-06</td>\n",
       "      <td>1</td>\n",
       "      <td>Lunch</td>\n",
       "    </tr>\n",
       "    <tr>\n",
       "      <th>2</th>\n",
       "      <td>1</td>\n",
       "      <td>Merluza del cabo filletes</td>\n",
       "      <td>a</td>\n",
       "      <td>Very Good Nutritional Quality</td>\n",
       "      <td>74</td>\n",
       "      <td>0.5</td>\n",
       "      <td>0.1</td>\n",
       "      <td>17.6</td>\n",
       "      <td>2022-05-07</td>\n",
       "      <td>1</td>\n",
       "      <td>Lunch</td>\n",
       "    </tr>\n",
       "    <tr>\n",
       "      <th>3</th>\n",
       "      <td>1</td>\n",
       "      <td>Chili con carne</td>\n",
       "      <td>c</td>\n",
       "      <td>Average Nutritional Quality</td>\n",
       "      <td>85</td>\n",
       "      <td>1.0</td>\n",
       "      <td>11.0</td>\n",
       "      <td>6.5</td>\n",
       "      <td>2022-05-07</td>\n",
       "      <td>2</td>\n",
       "      <td>Dinner</td>\n",
       "    </tr>\n",
       "    <tr>\n",
       "      <th>4</th>\n",
       "      <td>1</td>\n",
       "      <td>Zumo de piña</td>\n",
       "      <td>b</td>\n",
       "      <td>Good Nutritional Quality</td>\n",
       "      <td>27</td>\n",
       "      <td>0.0</td>\n",
       "      <td>6.3</td>\n",
       "      <td>0.3</td>\n",
       "      <td>2022-05-07</td>\n",
       "      <td>0</td>\n",
       "      <td>Breakfast</td>\n",
       "    </tr>\n",
       "  </tbody>\n",
       "</table>\n",
       "</div>"
      ],
      "text/plain": [
       "   id_user                        name nutriscore  \\\n",
       "0        1                     Florida          e   \n",
       "1        1  Arroz Thai Negro Germinado          a   \n",
       "2        1   Merluza del cabo filletes          a   \n",
       "3        1             Chili con carne          c   \n",
       "4        1                Zumo de piña          b   \n",
       "\n",
       "                nutriscore_label  cal  fat  carbo  protein        date  meal  \\\n",
       "0        Bad Nutritional Quality   29  0.1    6.7      0.1  2022-05-06     0   \n",
       "1  Very Good Nutritional Quality  358  0.0   73.0      8.5  2022-05-06     1   \n",
       "2  Very Good Nutritional Quality   74  0.5    0.1     17.6  2022-05-07     1   \n",
       "3    Average Nutritional Quality   85  1.0   11.0      6.5  2022-05-07     2   \n",
       "4       Good Nutritional Quality   27  0.0    6.3      0.3  2022-05-07     0   \n",
       "\n",
       "  meal_label  \n",
       "0  Breakfast  \n",
       "1      Lunch  \n",
       "2      Lunch  \n",
       "3     Dinner  \n",
       "4  Breakfast  "
      ]
     },
     "execution_count": 12,
     "metadata": {},
     "output_type": "execute_result"
    }
   ],
   "source": [
    "df_ingestions.head()"
   ]
  },
  {
   "cell_type": "markdown",
   "id": "ebe46986",
   "metadata": {},
   "source": [
    "<br>\n",
    "<br>"
   ]
  },
  {
   "cell_type": "markdown",
   "id": "757f0420",
   "metadata": {},
   "source": [
    "### Analysis of DataSets"
   ]
  },
  {
   "cell_type": "markdown",
   "id": "2b25a54e",
   "metadata": {},
   "source": [
    "##### User dataset:\n",
    "The shape of this dataset is 4 rows (n of testers of the utFoods app) and 11 columns (after data transform). "
   ]
  },
  {
   "cell_type": "code",
   "execution_count": 13,
   "id": "e8805ae0",
   "metadata": {},
   "outputs": [
    {
     "data": {
      "text/plain": [
       "(4, 12)"
      ]
     },
     "execution_count": 13,
     "metadata": {},
     "output_type": "execute_result"
    }
   ],
   "source": [
    "df_user.shape"
   ]
  },
  {
   "cell_type": "markdown",
   "id": "a03a6d60",
   "metadata": {},
   "source": [
    "<br>The average age of the testers is 36.5"
   ]
  },
  {
   "cell_type": "code",
   "execution_count": 14,
   "id": "eb1e8442",
   "metadata": {},
   "outputs": [
    {
     "data": {
      "text/plain": [
       "36.5"
      ]
     },
     "execution_count": 14,
     "metadata": {},
     "output_type": "execute_result"
    }
   ],
   "source": [
    "df_user[\"age\"].mean()"
   ]
  },
  {
   "cell_type": "markdown",
   "id": "4848135d",
   "metadata": {},
   "source": [
    "<br> The average weight of testers is 69.5kg"
   ]
  },
  {
   "cell_type": "code",
   "execution_count": 15,
   "id": "be27e199",
   "metadata": {},
   "outputs": [
    {
     "data": {
      "text/plain": [
       "69.5"
      ]
     },
     "execution_count": 15,
     "metadata": {},
     "output_type": "execute_result"
    }
   ],
   "source": [
    "df_user[\"weight\"].mean()"
   ]
  },
  {
   "cell_type": "markdown",
   "id": "19db0719",
   "metadata": {},
   "source": [
    "<br> The average height is 169cm"
   ]
  },
  {
   "cell_type": "code",
   "execution_count": 16,
   "id": "ce567e9c",
   "metadata": {},
   "outputs": [
    {
     "data": {
      "text/plain": [
       "169"
      ]
     },
     "execution_count": 16,
     "metadata": {},
     "output_type": "execute_result"
    }
   ],
   "source": [
    "round(df_user[\"height\"].mean())"
   ]
  },
  {
   "cell_type": "markdown",
   "id": "d3e208c0",
   "metadata": {},
   "source": [
    "<br>3 of the 4 testers had their sex assigned at birth as Male, while one of them was Female"
   ]
  },
  {
   "cell_type": "code",
   "execution_count": 17,
   "id": "734c5047",
   "metadata": {},
   "outputs": [
    {
     "data": {
      "image/png": "[encoded data removed]",
      "text/plain": [
       "<Figure size 432x288 with 1 Axes>"
      ]
     },
     "metadata": {
      "needs_background": "light"
     },
     "output_type": "display_data"
    }
   ],
   "source": [
    "sex_frequencies = pd.DataFrame({'Sex at birth':df_user[\"sex_label\"].sort_values(ascending = True).unique(),\n",
    "                   'Frequencies':df_user.groupby(['sex_label'])['sex_label'].count()})\n",
    "\n",
    "ax = sex_frequencies.plot.bar(x='Sex at birth', y='Frequencies', rot=0)"
   ]
  },
  {
   "cell_type": "markdown",
   "id": "8d27897c",
   "metadata": {},
   "source": [
    "<br>With the graphic below none of the testers has heavy activity"
   ]
  },
  {
   "cell_type": "code",
   "execution_count": 18,
   "id": "be445cec",
   "metadata": {},
   "outputs": [
    {
     "data": {
      "image/png": "[encoded data removed]",
      "text/plain": [
       "<Figure size 432x288 with 1 Axes>"
      ]
     },
     "metadata": {
      "needs_background": "light"
     },
     "output_type": "display_data"
    }
   ],
   "source": [
    "activity_frequencies = pd.DataFrame({'Activity Level':df_user[\"activity_label\"].sort_values(ascending = True).unique(),\n",
    "                   'Frequencies':df_user.groupby(['activity_label'])['activity_label'].count()})\n",
    "\n",
    "ax = activity_frequencies.plot.bar(x='Activity Level', y='Frequencies', rot=0)\n"
   ]
  },
  {
   "cell_type": "markdown",
   "id": "46126742",
   "metadata": {},
   "source": [
    "<br> In the rec_cal variable that stands for recommned calories the average is 1979.75,<br>\n",
    "the highest value was 2224 and the lowes value was 1831.\n",
    "The Std is 173.41"
   ]
  },
  {
   "cell_type": "code",
   "execution_count": 19,
   "id": "8c5bd5e8",
   "metadata": {},
   "outputs": [
    {
     "name": "stdout",
     "output_type": "stream",
     "text": [
      "Average: 1979.75 \n",
      "Max Value: 2224 \n",
      "Min Value: 1831 \n",
      "Std: 173.41352311743165\n"
     ]
    }
   ],
   "source": [
    "print(\"Average: \" + str(df_user[\"rec_cal\"].mean()),\"\\n\" + \"Max Value: \" + \n",
    "      str(df_user[\"rec_cal\"].max()), \"\\n\" + \"Min Value: \" + str(df_user[\"rec_cal\"].min()),\n",
    "      \"\\n\" + \"Std: \" + str(df_user[\"rec_cal\"].std()))"
   ]
  },
  {
   "cell_type": "markdown",
   "id": "3675ac7a",
   "metadata": {},
   "source": [
    "<br>This dataSet has differents levels os measuraments. In this regard the atributes of the dataSet were distruted:<br><br>\n",
    "Nominal : \"sex_at_birth\",\"activity\"; <br>\n",
    "Continuous : \"rec_cal\",\"age\", \"height\", \"weight\",\"ap_hi\",\"ap_lo\";<br>\n",
    "<br>\n",
    "For Nominal variables will use: Person Chi-Square<br>\n",
    "For Continuous variables will use: Spearman<br>\n",
    "\n",
    "#### Since the assumptions for this tests are not met, this results don't provide relevant information. Just for data exploring"
   ]
  },
  {
   "cell_type": "markdown",
   "id": "33dd666f",
   "metadata": {},
   "source": [
    "<br> Activity, among the testers, seems to be influenced by the variable sex_at_birth"
   ]
  },
  {
   "cell_type": "code",
   "execution_count": 20,
   "id": "5567087d",
   "metadata": {},
   "outputs": [
    {
     "data": {
      "text/html": [
       "<div>\n",
       "<style scoped>\n",
       "    .dataframe tbody tr th:only-of-type {\n",
       "        vertical-align: middle;\n",
       "    }\n",
       "\n",
       "    .dataframe tbody tr th {\n",
       "        vertical-align: top;\n",
       "    }\n",
       "\n",
       "    .dataframe thead th {\n",
       "        text-align: right;\n",
       "    }\n",
       "</style>\n",
       "<table border=\"1\" class=\"dataframe\">\n",
       "  <thead>\n",
       "    <tr style=\"text-align: right;\">\n",
       "      <th></th>\n",
       "      <th>sex_at_birth</th>\n",
       "      <th>activity</th>\n",
       "    </tr>\n",
       "  </thead>\n",
       "  <tbody>\n",
       "    <tr>\n",
       "      <th>sex_at_birth</th>\n",
       "      <td>1.000000</td>\n",
       "      <td>0.816497</td>\n",
       "    </tr>\n",
       "    <tr>\n",
       "      <th>activity</th>\n",
       "      <td>0.816497</td>\n",
       "      <td>1.000000</td>\n",
       "    </tr>\n",
       "  </tbody>\n",
       "</table>\n",
       "</div>"
      ],
      "text/plain": [
       "              sex_at_birth  activity\n",
       "sex_at_birth      1.000000  0.816497\n",
       "activity          0.816497  1.000000"
      ]
     },
     "execution_count": 20,
     "metadata": {},
     "output_type": "execute_result"
    }
   ],
   "source": [
    "#nominal\n",
    "df_user[[\"sex_at_birth\",\"activity\"]].corr(method ='pearson',min_periods = False)"
   ]
  },
  {
   "cell_type": "markdown",
   "id": "2b658287",
   "metadata": {},
   "source": [
    "<br>Has shwoned in the table below, the variable weight is the one who has the most significance between the other variables"
   ]
  },
  {
   "cell_type": "code",
   "execution_count": 21,
   "id": "a59b2be8",
   "metadata": {},
   "outputs": [
    {
     "data": {
      "text/html": [
       "<div>\n",
       "<style scoped>\n",
       "    .dataframe tbody tr th:only-of-type {\n",
       "        vertical-align: middle;\n",
       "    }\n",
       "\n",
       "    .dataframe tbody tr th {\n",
       "        vertical-align: top;\n",
       "    }\n",
       "\n",
       "    .dataframe thead th {\n",
       "        text-align: right;\n",
       "    }\n",
       "</style>\n",
       "<table border=\"1\" class=\"dataframe\">\n",
       "  <thead>\n",
       "    <tr style=\"text-align: right;\">\n",
       "      <th></th>\n",
       "      <th>rec_cal</th>\n",
       "      <th>age</th>\n",
       "      <th>height</th>\n",
       "      <th>weight</th>\n",
       "      <th>ap_hi</th>\n",
       "      <th>ap_lo</th>\n",
       "    </tr>\n",
       "  </thead>\n",
       "  <tbody>\n",
       "    <tr>\n",
       "      <th>rec_cal</th>\n",
       "      <td>1.000000</td>\n",
       "      <td>-0.600000</td>\n",
       "      <td>-0.600000</td>\n",
       "      <td>-0.737865</td>\n",
       "      <td>-0.316228</td>\n",
       "      <td>-0.400000</td>\n",
       "    </tr>\n",
       "    <tr>\n",
       "      <th>age</th>\n",
       "      <td>-0.600000</td>\n",
       "      <td>1.000000</td>\n",
       "      <td>1.000000</td>\n",
       "      <td>0.948683</td>\n",
       "      <td>0.948683</td>\n",
       "      <td>0.400000</td>\n",
       "    </tr>\n",
       "    <tr>\n",
       "      <th>height</th>\n",
       "      <td>-0.600000</td>\n",
       "      <td>1.000000</td>\n",
       "      <td>1.000000</td>\n",
       "      <td>0.948683</td>\n",
       "      <td>0.948683</td>\n",
       "      <td>0.400000</td>\n",
       "    </tr>\n",
       "    <tr>\n",
       "      <th>weight</th>\n",
       "      <td>-0.737865</td>\n",
       "      <td>0.948683</td>\n",
       "      <td>0.948683</td>\n",
       "      <td>1.000000</td>\n",
       "      <td>0.833333</td>\n",
       "      <td>0.632456</td>\n",
       "    </tr>\n",
       "    <tr>\n",
       "      <th>ap_hi</th>\n",
       "      <td>-0.316228</td>\n",
       "      <td>0.948683</td>\n",
       "      <td>0.948683</td>\n",
       "      <td>0.833333</td>\n",
       "      <td>1.000000</td>\n",
       "      <td>0.316228</td>\n",
       "    </tr>\n",
       "    <tr>\n",
       "      <th>ap_lo</th>\n",
       "      <td>-0.400000</td>\n",
       "      <td>0.400000</td>\n",
       "      <td>0.400000</td>\n",
       "      <td>0.632456</td>\n",
       "      <td>0.316228</td>\n",
       "      <td>1.000000</td>\n",
       "    </tr>\n",
       "  </tbody>\n",
       "</table>\n",
       "</div>"
      ],
      "text/plain": [
       "          rec_cal       age    height    weight     ap_hi     ap_lo\n",
       "rec_cal  1.000000 -0.600000 -0.600000 -0.737865 -0.316228 -0.400000\n",
       "age     -0.600000  1.000000  1.000000  0.948683  0.948683  0.400000\n",
       "height  -0.600000  1.000000  1.000000  0.948683  0.948683  0.400000\n",
       "weight  -0.737865  0.948683  0.948683  1.000000  0.833333  0.632456\n",
       "ap_hi   -0.316228  0.948683  0.948683  0.833333  1.000000  0.316228\n",
       "ap_lo   -0.400000  0.400000  0.400000  0.632456  0.316228  1.000000"
      ]
     },
     "execution_count": 21,
     "metadata": {},
     "output_type": "execute_result"
    }
   ],
   "source": [
    "#continuos\n",
    "df_user[[\"rec_cal\",\"age\",\"height\",\"weight\",\"ap_hi\",\"ap_lo\"]].corr(method ='spearman')"
   ]
  },
  {
   "cell_type": "markdown",
   "id": "bb2e8275",
   "metadata": {},
   "source": [
    "<br>"
   ]
  },
  {
   "cell_type": "markdown",
   "id": "92c49059",
   "metadata": {},
   "source": [
    "##### Ingestions dataset:\n",
    "The shape of this dataset is 79 rows (n of testers of the utFoods app) and 11 columns (after data transform). "
   ]
  },
  {
   "cell_type": "code",
   "execution_count": 22,
   "id": "a8b86a75",
   "metadata": {},
   "outputs": [
    {
     "data": {
      "text/plain": [
       "(79, 11)"
      ]
     },
     "execution_count": 22,
     "metadata": {},
     "output_type": "execute_result"
    }
   ],
   "source": [
    "df_ingestions.shape"
   ]
  },
  {
   "cell_type": "markdown",
   "id": "13e98ba3",
   "metadata": {},
   "source": [
    "<br>The tester with id 4 was the one who registed more ingestions."
   ]
  },
  {
   "cell_type": "code",
   "execution_count": 23,
   "id": "adddf1fc",
   "metadata": {},
   "outputs": [
    {
     "data": {
      "text/plain": [
       "id_user\n",
       "4    40\n",
       "5    26\n",
       "3     8\n",
       "1     5\n",
       "Name: name, dtype: int64"
      ]
     },
     "execution_count": 23,
     "metadata": {},
     "output_type": "execute_result"
    }
   ],
   "source": [
    "df_ingestions.groupby(['id_user'])['name'].count().sort_values(ascending = False)"
   ]
  },
  {
   "cell_type": "markdown",
   "id": "5bea68d3",
   "metadata": {},
   "source": [
    "<br>Banana was the most ingested food, being registted 8 times"
   ]
  },
  {
   "cell_type": "code",
   "execution_count": 24,
   "id": "283832b3",
   "metadata": {},
   "outputs": [
    {
     "data": {
      "text/plain": [
       "name\n",
       "Banana                                       8\n",
       "Meia rosca com manteiga                      6\n",
       "Hacenado +Proteina                           5\n",
       "Laranja                                      4\n",
       "Iogurte Natural                              4\n",
       "Pão com manteiga                             4\n",
       "Milka & Oreo                                 3\n",
       "Bolacha Maria                                3\n",
       "Massa com carne                              3\n",
       "Maça                                         2\n",
       "LINDAHLs KVARG                               2\n",
       "Massa com Atum                               2\n",
       "Francesinha com Molho                        2\n",
       "Super Frutos                                 2\n",
       "Croissant Brioche                            2\n",
       "Yaos estiko grego                            2\n",
       "RedFish no forno                             2\n",
       "Sopa de lentilhas                            1\n",
       "Toffee Nut Syrup                             1\n",
       "Toranja rosa natural                         1\n",
       "Pizza masa fina                              1\n",
       "Pizza Hut Vegan                              1\n",
       "Pan de molde integral                        1\n",
       "Wrap de frango                               1\n",
       "O Merceeiro Soja                             1\n",
       "Arroz Thai Negro Germinado                   1\n",
       "Merluza del cabo filletes                    1\n",
       "Medialunas de parmigiano reggiano y trufa    1\n",
       "BK Whopper                                   1\n",
       "Massa Bologensa  Knorr                       1\n",
       "Lindt dark cocoa 85%                         1\n",
       "Hacendado +proteína chocolate                1\n",
       "Frigideira                                   1\n",
       "Florida                                      1\n",
       "Croûtons SALADE Nature                       1\n",
       "Cozido à portuguesa                          1\n",
       "Chili con carne                              1\n",
       "Bolo de aniversario                          1\n",
       "Bio Hafer Natur                              1\n",
       "Zumo de piña                                 1\n",
       "Name: name, dtype: int64"
      ]
     },
     "execution_count": 24,
     "metadata": {},
     "output_type": "execute_result"
    }
   ],
   "source": [
    "df_ingestions.groupby(['name'])['name'].count().sort_values(ascending = False)"
   ]
  },
  {
   "cell_type": "markdown",
   "id": "faef11eb",
   "metadata": {},
   "source": [
    "<br>The user who registed more foods was user nº4"
   ]
  },
  {
   "cell_type": "code",
   "execution_count": 25,
   "id": "da9b678e",
   "metadata": {},
   "outputs": [
    {
     "data": {
      "image/png": "[encoded data removed]",
      "text/plain": [
       "<Figure size 432x288 with 1 Axes>"
      ]
     },
     "metadata": {},
     "output_type": "display_data"
    }
   ],
   "source": [
    "more_ingestions_by_user = pd.DataFrame({'User ID':df_ingestions[\"id_user\"].sort_values(ascending = True).unique(),\n",
    "                   'Nº of ingestions':df_ingestions.groupby(['id_user'])['date'].count()})\n",
    "\n",
    "ax = more_ingestions_by_user.plot.pie(x='User ID', y='Nº of ingestions', rot=0,autopct='%1.1f%%')\n",
    "\n"
   ]
  },
  {
   "cell_type": "markdown",
   "id": "636670d6",
   "metadata": {},
   "source": [
    "<br>The user who consumed more calories was the nº4"
   ]
  },
  {
   "cell_type": "code",
   "execution_count": 26,
   "id": "7a121cd9",
   "metadata": {},
   "outputs": [
    {
     "data": {
      "image/png": "[encoded data removed]",
      "text/plain": [
       "<Figure size 432x288 with 1 Axes>"
      ]
     },
     "metadata": {
      "needs_background": "light"
     },
     "output_type": "display_data"
    }
   ],
   "source": [
    "more_calories_by_user = pd.DataFrame({'User ID':df_ingestions[\"id_user\"].sort_values(ascending = True).unique(),\n",
    "                   'Total of calories':df_ingestions.groupby(['id_user'])['cal'].sum()})\n",
    "\n",
    "ax = more_calories_by_user.plot.bar(x='User ID', y='Total of calories', rot=0)\n"
   ]
  },
  {
   "cell_type": "markdown",
   "id": "e26f79cb",
   "metadata": {},
   "source": [
    "<br>None of the users reached its objetive of 'rec_cal'(recommended calories). And only two times were registed exceed calories situation (negative values).<br>\n",
    "<br>\n",
    "The testing started on 6 of may until 14 of may. Users did not registed foods everyday"
   ]
  },
  {
   "cell_type": "code",
   "execution_count": 84,
   "id": "83d29ed6",
   "metadata": {},
   "outputs": [
    {
     "data": {
      "text/html": [
       "<div>\n",
       "<style scoped>\n",
       "    .dataframe tbody tr th:only-of-type {\n",
       "        vertical-align: middle;\n",
       "    }\n",
       "\n",
       "    .dataframe tbody tr th {\n",
       "        vertical-align: top;\n",
       "    }\n",
       "\n",
       "    .dataframe thead th {\n",
       "        text-align: right;\n",
       "    }\n",
       "</style>\n",
       "<table border=\"1\" class=\"dataframe\">\n",
       "  <thead>\n",
       "    <tr style=\"text-align: right;\">\n",
       "      <th></th>\n",
       "      <th></th>\n",
       "      <th>cal</th>\n",
       "      <th>rec_cal</th>\n",
       "      <th>calories_difference</th>\n",
       "      <th>is_objective_completed</th>\n",
       "    </tr>\n",
       "    <tr>\n",
       "      <th>id_user</th>\n",
       "      <th>date</th>\n",
       "      <th></th>\n",
       "      <th></th>\n",
       "      <th></th>\n",
       "      <th></th>\n",
       "    </tr>\n",
       "  </thead>\n",
       "  <tbody>\n",
       "    <tr>\n",
       "      <th rowspan=\"2\" valign=\"top\">1</th>\n",
       "      <th>2022-05-06</th>\n",
       "      <td>387</td>\n",
       "      <td>1888</td>\n",
       "      <td>1501</td>\n",
       "      <td>False</td>\n",
       "    </tr>\n",
       "    <tr>\n",
       "      <th>2022-05-07</th>\n",
       "      <td>186</td>\n",
       "      <td>1888</td>\n",
       "      <td>1702</td>\n",
       "      <td>False</td>\n",
       "    </tr>\n",
       "    <tr>\n",
       "      <th rowspan=\"2\" valign=\"top\">3</th>\n",
       "      <th>2022-05-09</th>\n",
       "      <td>250</td>\n",
       "      <td>2224</td>\n",
       "      <td>1974</td>\n",
       "      <td>False</td>\n",
       "    </tr>\n",
       "    <tr>\n",
       "      <th>2022-05-10</th>\n",
       "      <td>3164</td>\n",
       "      <td>2224</td>\n",
       "      <td>-940</td>\n",
       "      <td>False</td>\n",
       "    </tr>\n",
       "    <tr>\n",
       "      <th rowspan=\"8\" valign=\"top\">4</th>\n",
       "      <th>2022-05-06</th>\n",
       "      <td>763</td>\n",
       "      <td>1831</td>\n",
       "      <td>1068</td>\n",
       "      <td>False</td>\n",
       "    </tr>\n",
       "    <tr>\n",
       "      <th>2022-05-07</th>\n",
       "      <td>848</td>\n",
       "      <td>1831</td>\n",
       "      <td>983</td>\n",
       "      <td>False</td>\n",
       "    </tr>\n",
       "    <tr>\n",
       "      <th>2022-05-08</th>\n",
       "      <td>1171</td>\n",
       "      <td>1831</td>\n",
       "      <td>660</td>\n",
       "      <td>False</td>\n",
       "    </tr>\n",
       "    <tr>\n",
       "      <th>2022-05-09</th>\n",
       "      <td>915</td>\n",
       "      <td>1831</td>\n",
       "      <td>916</td>\n",
       "      <td>False</td>\n",
       "    </tr>\n",
       "    <tr>\n",
       "      <th>2022-05-10</th>\n",
       "      <td>1091</td>\n",
       "      <td>1831</td>\n",
       "      <td>740</td>\n",
       "      <td>False</td>\n",
       "    </tr>\n",
       "    <tr>\n",
       "      <th>2022-05-11</th>\n",
       "      <td>654</td>\n",
       "      <td>1831</td>\n",
       "      <td>1177</td>\n",
       "      <td>False</td>\n",
       "    </tr>\n",
       "    <tr>\n",
       "      <th>2022-05-12</th>\n",
       "      <td>1080</td>\n",
       "      <td>1831</td>\n",
       "      <td>751</td>\n",
       "      <td>False</td>\n",
       "    </tr>\n",
       "    <tr>\n",
       "      <th>2022-05-14</th>\n",
       "      <td>1564</td>\n",
       "      <td>1831</td>\n",
       "      <td>267</td>\n",
       "      <td>False</td>\n",
       "    </tr>\n",
       "    <tr>\n",
       "      <th rowspan=\"7\" valign=\"top\">5</th>\n",
       "      <th>2022-05-06</th>\n",
       "      <td>2123</td>\n",
       "      <td>1976</td>\n",
       "      <td>-147</td>\n",
       "      <td>False</td>\n",
       "    </tr>\n",
       "    <tr>\n",
       "      <th>2022-05-07</th>\n",
       "      <td>784</td>\n",
       "      <td>1976</td>\n",
       "      <td>1192</td>\n",
       "      <td>False</td>\n",
       "    </tr>\n",
       "    <tr>\n",
       "      <th>2022-05-09</th>\n",
       "      <td>1289</td>\n",
       "      <td>1976</td>\n",
       "      <td>687</td>\n",
       "      <td>False</td>\n",
       "    </tr>\n",
       "    <tr>\n",
       "      <th>2022-05-11</th>\n",
       "      <td>79</td>\n",
       "      <td>1976</td>\n",
       "      <td>1897</td>\n",
       "      <td>False</td>\n",
       "    </tr>\n",
       "    <tr>\n",
       "      <th>2022-05-12</th>\n",
       "      <td>242</td>\n",
       "      <td>1976</td>\n",
       "      <td>1734</td>\n",
       "      <td>False</td>\n",
       "    </tr>\n",
       "    <tr>\n",
       "      <th>2022-05-13</th>\n",
       "      <td>272</td>\n",
       "      <td>1976</td>\n",
       "      <td>1704</td>\n",
       "      <td>False</td>\n",
       "    </tr>\n",
       "    <tr>\n",
       "      <th>2022-05-14</th>\n",
       "      <td>1757</td>\n",
       "      <td>1976</td>\n",
       "      <td>219</td>\n",
       "      <td>False</td>\n",
       "    </tr>\n",
       "  </tbody>\n",
       "</table>\n",
       "</div>"
      ],
      "text/plain": [
       "                     cal  rec_cal  calories_difference  is_objective_completed\n",
       "id_user date                                                                  \n",
       "1       2022-05-06   387     1888                 1501                   False\n",
       "        2022-05-07   186     1888                 1702                   False\n",
       "3       2022-05-09   250     2224                 1974                   False\n",
       "        2022-05-10  3164     2224                 -940                   False\n",
       "4       2022-05-06   763     1831                 1068                   False\n",
       "        2022-05-07   848     1831                  983                   False\n",
       "        2022-05-08  1171     1831                  660                   False\n",
       "        2022-05-09   915     1831                  916                   False\n",
       "        2022-05-10  1091     1831                  740                   False\n",
       "        2022-05-11   654     1831                 1177                   False\n",
       "        2022-05-12  1080     1831                  751                   False\n",
       "        2022-05-14  1564     1831                  267                   False\n",
       "5       2022-05-06  2123     1976                 -147                   False\n",
       "        2022-05-07   784     1976                 1192                   False\n",
       "        2022-05-09  1289     1976                  687                   False\n",
       "        2022-05-11    79     1976                 1897                   False\n",
       "        2022-05-12   242     1976                 1734                   False\n",
       "        2022-05-13   272     1976                 1704                   False\n",
       "        2022-05-14  1757     1976                  219                   False"
      ]
     },
     "execution_count": 84,
     "metadata": {},
     "output_type": "execute_result"
    }
   ],
   "source": [
    "daily_target = df_user[[\"id\", \"rec_cal\"]]\n",
    "daily_consumption = df_ingestions.groupby(['id_user',\"date\"])['cal'].sum()\n",
    "daily_consumption_joined_daily_target = daily_consumption.to_frame().join(daily_target.set_index(\"id\"),on = \"id_user\")\n",
    "daily_consumption_joined_daily_target.insert(loc=2,\n",
    "                                            column = \"calories_difference\",\n",
    "                                            value= daily_consumption_joined_daily_target[\"rec_cal\"] - daily_consumption_joined_daily_target[\"cal\"])\n",
    "\n",
    "daily_consumption_joined_daily_target.insert(loc=3,\n",
    "                                            column = \"is_objective_completed\",\n",
    "                                            value= daily_consumption_joined_daily_target[\"rec_cal\"] == daily_consumption_joined_daily_target[\"cal\"] )\n",
    "\n",
    "daily_consumption_joined_daily_target"
   ]
  },
  {
   "cell_type": "markdown",
   "id": "2f9827a6",
   "metadata": {},
   "source": [
    "<br>The meal users registed more foods was the Lunch with 34.2%"
   ]
  },
  {
   "cell_type": "code",
   "execution_count": 99,
   "id": "28d96f02",
   "metadata": {},
   "outputs": [
    {
     "data": {
      "image/png": "[encoded data removed]",
      "text/plain": [
       "<Figure size 432x288 with 1 Axes>"
      ]
     },
     "metadata": {},
     "output_type": "display_data"
    }
   ],
   "source": [
    "more_meal_frequent = pd.DataFrame({'meal':df_ingestions[\"meal_label\"].sort_values(ascending = True).unique(),\n",
    "                   'Nº of meals':df_ingestions.groupby(['meal_label'])['meal'].count()})\n",
    "\n",
    "ax = more_meal_frequent.plot.pie(x='meal', y='Nº of meals', rot=0,autopct='%1.1f%%')"
   ]
  },
  {
   "cell_type": "code",
   "execution_count": 98,
   "id": "3c418a39",
   "metadata": {},
   "outputs": [
    {
     "data": {
      "text/html": [
       "<div>\n",
       "<style scoped>\n",
       "    .dataframe tbody tr th:only-of-type {\n",
       "        vertical-align: middle;\n",
       "    }\n",
       "\n",
       "    .dataframe tbody tr th {\n",
       "        vertical-align: top;\n",
       "    }\n",
       "\n",
       "    .dataframe thead th {\n",
       "        text-align: right;\n",
       "    }\n",
       "</style>\n",
       "<table border=\"1\" class=\"dataframe\">\n",
       "  <thead>\n",
       "    <tr style=\"text-align: right;\">\n",
       "      <th></th>\n",
       "      <th>meal</th>\n",
       "    </tr>\n",
       "    <tr>\n",
       "      <th>meal_label</th>\n",
       "      <th></th>\n",
       "    </tr>\n",
       "  </thead>\n",
       "  <tbody>\n",
       "    <tr>\n",
       "      <th>Breakfast</th>\n",
       "      <td>23</td>\n",
       "    </tr>\n",
       "    <tr>\n",
       "      <th>Dinner</th>\n",
       "      <td>11</td>\n",
       "    </tr>\n",
       "    <tr>\n",
       "      <th>Lunch</th>\n",
       "      <td>27</td>\n",
       "    </tr>\n",
       "    <tr>\n",
       "      <th>Snacks</th>\n",
       "      <td>18</td>\n",
       "    </tr>\n",
       "  </tbody>\n",
       "</table>\n",
       "</div>"
      ],
      "text/plain": [
       "            meal\n",
       "meal_label      \n",
       "Breakfast     23\n",
       "Dinner        11\n",
       "Lunch         27\n",
       "Snacks        18"
      ]
     },
     "execution_count": 98,
     "metadata": {},
     "output_type": "execute_result"
    }
   ],
   "source": [
    "df_ingestions.groupby([\"meal_label\"])['meal'].count().to_frame()"
   ]
  },
  {
   "cell_type": "markdown",
   "id": "2ba1a55e",
   "metadata": {},
   "source": [
    "<br>Distribution of meal by id"
   ]
  },
  {
   "cell_type": "code",
   "execution_count": 97,
   "id": "eaf875c3",
   "metadata": {},
   "outputs": [
    {
     "data": {
      "text/html": [
       "<div>\n",
       "<style scoped>\n",
       "    .dataframe tbody tr th:only-of-type {\n",
       "        vertical-align: middle;\n",
       "    }\n",
       "\n",
       "    .dataframe tbody tr th {\n",
       "        vertical-align: top;\n",
       "    }\n",
       "\n",
       "    .dataframe thead th {\n",
       "        text-align: right;\n",
       "    }\n",
       "</style>\n",
       "<table border=\"1\" class=\"dataframe\">\n",
       "  <thead>\n",
       "    <tr style=\"text-align: right;\">\n",
       "      <th></th>\n",
       "      <th></th>\n",
       "      <th>meal</th>\n",
       "    </tr>\n",
       "    <tr>\n",
       "      <th>id_user</th>\n",
       "      <th>meal_label</th>\n",
       "      <th></th>\n",
       "    </tr>\n",
       "  </thead>\n",
       "  <tbody>\n",
       "    <tr>\n",
       "      <th rowspan=\"3\" valign=\"top\">1</th>\n",
       "      <th>Breakfast</th>\n",
       "      <td>2</td>\n",
       "    </tr>\n",
       "    <tr>\n",
       "      <th>Dinner</th>\n",
       "      <td>1</td>\n",
       "    </tr>\n",
       "    <tr>\n",
       "      <th>Lunch</th>\n",
       "      <td>2</td>\n",
       "    </tr>\n",
       "    <tr>\n",
       "      <th rowspan=\"4\" valign=\"top\">3</th>\n",
       "      <th>Breakfast</th>\n",
       "      <td>2</td>\n",
       "    </tr>\n",
       "    <tr>\n",
       "      <th>Dinner</th>\n",
       "      <td>1</td>\n",
       "    </tr>\n",
       "    <tr>\n",
       "      <th>Lunch</th>\n",
       "      <td>2</td>\n",
       "    </tr>\n",
       "    <tr>\n",
       "      <th>Snacks</th>\n",
       "      <td>3</td>\n",
       "    </tr>\n",
       "    <tr>\n",
       "      <th rowspan=\"4\" valign=\"top\">4</th>\n",
       "      <th>Breakfast</th>\n",
       "      <td>12</td>\n",
       "    </tr>\n",
       "    <tr>\n",
       "      <th>Dinner</th>\n",
       "      <td>4</td>\n",
       "    </tr>\n",
       "    <tr>\n",
       "      <th>Lunch</th>\n",
       "      <td>13</td>\n",
       "    </tr>\n",
       "    <tr>\n",
       "      <th>Snacks</th>\n",
       "      <td>11</td>\n",
       "    </tr>\n",
       "    <tr>\n",
       "      <th rowspan=\"4\" valign=\"top\">5</th>\n",
       "      <th>Breakfast</th>\n",
       "      <td>7</td>\n",
       "    </tr>\n",
       "    <tr>\n",
       "      <th>Dinner</th>\n",
       "      <td>5</td>\n",
       "    </tr>\n",
       "    <tr>\n",
       "      <th>Lunch</th>\n",
       "      <td>10</td>\n",
       "    </tr>\n",
       "    <tr>\n",
       "      <th>Snacks</th>\n",
       "      <td>4</td>\n",
       "    </tr>\n",
       "  </tbody>\n",
       "</table>\n",
       "</div>"
      ],
      "text/plain": [
       "                    meal\n",
       "id_user meal_label      \n",
       "1       Breakfast      2\n",
       "        Dinner         1\n",
       "        Lunch          2\n",
       "3       Breakfast      2\n",
       "        Dinner         1\n",
       "        Lunch          2\n",
       "        Snacks         3\n",
       "4       Breakfast     12\n",
       "        Dinner         4\n",
       "        Lunch         13\n",
       "        Snacks        11\n",
       "5       Breakfast      7\n",
       "        Dinner         5\n",
       "        Lunch         10\n",
       "        Snacks         4"
      ]
     },
     "execution_count": 97,
     "metadata": {},
     "output_type": "execute_result"
    }
   ],
   "source": [
    "df_ingestions.groupby(['id_user',\"meal_label\"])['meal'].count().to_frame()"
   ]
  },
  {
   "cell_type": "markdown",
   "id": "95515f69",
   "metadata": {},
   "source": [
    "##### Sport dataset:\n",
    "The shape of this dataset is 2 rows and 4 columns (after data transform). Activity Sport, wasn't a thing that got very the testers attention."
   ]
  },
  {
   "cell_type": "code",
   "execution_count": 102,
   "id": "52ad52fe",
   "metadata": {},
   "outputs": [
    {
     "data": {
      "text/plain": [
       "(2, 4)"
      ]
     },
     "execution_count": 102,
     "metadata": {},
     "output_type": "execute_result"
    }
   ],
   "source": [
    "df_sport.shape"
   ]
  },
  {
   "cell_type": "code",
   "execution_count": 103,
   "id": "f49ca6de",
   "metadata": {},
   "outputs": [
    {
     "data": {
      "text/html": [
       "<div>\n",
       "<style scoped>\n",
       "    .dataframe tbody tr th:only-of-type {\n",
       "        vertical-align: middle;\n",
       "    }\n",
       "\n",
       "    .dataframe tbody tr th {\n",
       "        vertical-align: top;\n",
       "    }\n",
       "\n",
       "    .dataframe thead th {\n",
       "        text-align: right;\n",
       "    }\n",
       "</style>\n",
       "<table border=\"1\" class=\"dataframe\">\n",
       "  <thead>\n",
       "    <tr style=\"text-align: right;\">\n",
       "      <th></th>\n",
       "      <th>id_user</th>\n",
       "      <th>sport</th>\n",
       "      <th>duration</th>\n",
       "      <th>date</th>\n",
       "    </tr>\n",
       "  </thead>\n",
       "  <tbody>\n",
       "    <tr>\n",
       "      <th>0</th>\n",
       "      <td>1</td>\n",
       "      <td>Caminata lenta a 4,5 km/h</td>\n",
       "      <td>30</td>\n",
       "      <td>2022-05-06</td>\n",
       "    </tr>\n",
       "    <tr>\n",
       "      <th>1</th>\n",
       "      <td>5</td>\n",
       "      <td>Caminhada lenta a 4,5 km/h</td>\n",
       "      <td>15</td>\n",
       "      <td>2022-05-14</td>\n",
       "    </tr>\n",
       "  </tbody>\n",
       "</table>\n",
       "</div>"
      ],
      "text/plain": [
       "  id_user                       sport duration        date\n",
       "0       1  Caminata lenta a 4,5 km/h        30  2022-05-06\n",
       "1       5  Caminhada lenta a 4,5 km/h       15  2022-05-14"
      ]
     },
     "execution_count": 103,
     "metadata": {},
     "output_type": "execute_result"
    }
   ],
   "source": [
    "df_sport"
   ]
  },
  {
   "cell_type": "markdown",
   "id": "719ee949",
   "metadata": {},
   "source": [
    "##### Water dataset:\n",
    "The shape of this dataset is 36 rows and 3 columns. Activity Sport, wasn't a thing that got the testers attention."
   ]
  },
  {
   "cell_type": "code",
   "execution_count": 106,
   "id": "304133d7",
   "metadata": {},
   "outputs": [
    {
     "data": {
      "text/plain": [
       "(36, 3)"
      ]
     },
     "execution_count": 106,
     "metadata": {},
     "output_type": "execute_result"
    }
   ],
   "source": [
    "df_water.shape"
   ]
  },
  {
   "cell_type": "markdown",
   "id": "fdeb6c64",
   "metadata": {},
   "source": [
    "<br>The water tracker had 9 as the goal"
   ]
  },
  {
   "cell_type": "code",
   "execution_count": 132,
   "id": "01a2e08e",
   "metadata": {},
   "outputs": [
    {
     "data": {
      "text/html": [
       "<div>\n",
       "<style scoped>\n",
       "    .dataframe tbody tr th:only-of-type {\n",
       "        vertical-align: middle;\n",
       "    }\n",
       "\n",
       "    .dataframe tbody tr th {\n",
       "        vertical-align: top;\n",
       "    }\n",
       "\n",
       "    .dataframe thead th {\n",
       "        text-align: right;\n",
       "    }\n",
       "</style>\n",
       "<table border=\"1\" class=\"dataframe\">\n",
       "  <thead>\n",
       "    <tr style=\"text-align: right;\">\n",
       "      <th></th>\n",
       "      <th></th>\n",
       "      <th>cups</th>\n",
       "    </tr>\n",
       "    <tr>\n",
       "      <th>id_user</th>\n",
       "      <th>date</th>\n",
       "      <th></th>\n",
       "    </tr>\n",
       "  </thead>\n",
       "  <tbody>\n",
       "    <tr>\n",
       "      <th rowspan=\"2\" valign=\"top\">1</th>\n",
       "      <th>2022-05-06</th>\n",
       "      <td>-4</td>\n",
       "    </tr>\n",
       "    <tr>\n",
       "      <th>2022-05-07</th>\n",
       "      <td>-4</td>\n",
       "    </tr>\n",
       "    <tr>\n",
       "      <th>3</th>\n",
       "      <th>2022-05-10</th>\n",
       "      <td>-7</td>\n",
       "    </tr>\n",
       "    <tr>\n",
       "      <th rowspan=\"3\" valign=\"top\">4</th>\n",
       "      <th>2022-05-07</th>\n",
       "      <td>-6</td>\n",
       "    </tr>\n",
       "    <tr>\n",
       "      <th>2022-05-09</th>\n",
       "      <td>-7</td>\n",
       "    </tr>\n",
       "    <tr>\n",
       "      <th>2022-05-12</th>\n",
       "      <td>-6</td>\n",
       "    </tr>\n",
       "    <tr>\n",
       "      <th rowspan=\"5\" valign=\"top\">5</th>\n",
       "      <th>2022-05-06</th>\n",
       "      <td>-7</td>\n",
       "    </tr>\n",
       "    <tr>\n",
       "      <th>2022-05-07</th>\n",
       "      <td>-6</td>\n",
       "    </tr>\n",
       "    <tr>\n",
       "      <th>2022-05-09</th>\n",
       "      <td>-6</td>\n",
       "    </tr>\n",
       "    <tr>\n",
       "      <th>2022-05-12</th>\n",
       "      <td>-6</td>\n",
       "    </tr>\n",
       "    <tr>\n",
       "      <th>2022-05-14</th>\n",
       "      <td>-4</td>\n",
       "    </tr>\n",
       "  </tbody>\n",
       "</table>\n",
       "</div>"
      ],
      "text/plain": [
       "                    cups\n",
       "id_user date            \n",
       "1       2022-05-06    -4\n",
       "        2022-05-07    -4\n",
       "3       2022-05-10    -7\n",
       "4       2022-05-07    -6\n",
       "        2022-05-09    -7\n",
       "        2022-05-12    -6\n",
       "5       2022-05-06    -7\n",
       "        2022-05-07    -6\n",
       "        2022-05-09    -6\n",
       "        2022-05-12    -6\n",
       "        2022-05-14    -4"
      ]
     },
     "execution_count": 132,
     "metadata": {},
     "output_type": "execute_result"
    }
   ],
   "source": [
    "daily_water_consumption = df_water.groupby(['id_user',\"date\"])['cups'].sum().to_frame() - 9\n",
    "daily_water_consumption"
   ]
  },
  {
   "cell_type": "markdown",
   "id": "45439b5c",
   "metadata": {},
   "source": [
    "##### WeightTracker dataset:\n",
    "The shape of this dataset is 4 rows and 3 columns."
   ]
  },
  {
   "cell_type": "code",
   "execution_count": 133,
   "id": "608b5ee2",
   "metadata": {},
   "outputs": [
    {
     "data": {
      "text/plain": [
       "(4, 3)"
      ]
     },
     "execution_count": 133,
     "metadata": {},
     "output_type": "execute_result"
    }
   ],
   "source": [
    "df_weight_tracker.shape"
   ]
  },
  {
   "cell_type": "markdown",
   "id": "8a44c8ad",
   "metadata": {},
   "source": [
    "<br>There was not registed a weight modification. These were automatically added during profile setUP in utFoods"
   ]
  },
  {
   "cell_type": "code",
   "execution_count": 144,
   "id": "8fb9602a",
   "metadata": {},
   "outputs": [
    {
     "data": {
      "text/html": [
       "<div>\n",
       "<style scoped>\n",
       "    .dataframe tbody tr th:only-of-type {\n",
       "        vertical-align: middle;\n",
       "    }\n",
       "\n",
       "    .dataframe tbody tr th {\n",
       "        vertical-align: top;\n",
       "    }\n",
       "\n",
       "    .dataframe thead th {\n",
       "        text-align: right;\n",
       "    }\n",
       "</style>\n",
       "<table border=\"1\" class=\"dataframe\">\n",
       "  <thead>\n",
       "    <tr style=\"text-align: right;\">\n",
       "      <th></th>\n",
       "      <th>id_user</th>\n",
       "      <th>weight</th>\n",
       "      <th>date</th>\n",
       "    </tr>\n",
       "  </thead>\n",
       "  <tbody>\n",
       "    <tr>\n",
       "      <th>0</th>\n",
       "      <td>1</td>\n",
       "      <td>80.0</td>\n",
       "      <td>2022-05-06</td>\n",
       "    </tr>\n",
       "    <tr>\n",
       "      <th>1</th>\n",
       "      <td>3</td>\n",
       "      <td>65.0</td>\n",
       "      <td>2022-05-09</td>\n",
       "    </tr>\n",
       "    <tr>\n",
       "      <th>2</th>\n",
       "      <td>4</td>\n",
       "      <td>68.0</td>\n",
       "      <td>2022-05-06</td>\n",
       "    </tr>\n",
       "    <tr>\n",
       "      <th>3</th>\n",
       "      <td>5</td>\n",
       "      <td>65.0</td>\n",
       "      <td>2022-05-06</td>\n",
       "    </tr>\n",
       "  </tbody>\n",
       "</table>\n",
       "</div>"
      ],
      "text/plain": [
       "   id_user  weight        date\n",
       "0        1    80.0  2022-05-06\n",
       "1        3    65.0  2022-05-09\n",
       "2        4    68.0  2022-05-06\n",
       "3        5    65.0  2022-05-06"
      ]
     },
     "execution_count": 144,
     "metadata": {},
     "output_type": "execute_result"
    }
   ],
   "source": [
    "df_weight_tracker"
   ]
  }
 ],
 "metadata": {
  "kernelspec": {
   "display_name": "Python 3",
   "language": "python",
   "name": "python3"
  },
  "language_info": {
   "codemirror_mode": {
    "name": "ipython",
    "version": 3
   },
   "file_extension": ".py",
   "mimetype": "text/x-python",
   "name": "python",
   "nbconvert_exporter": "python",
   "pygments_lexer": "ipython3",
   "version": "3.7.6"
  }
 },
 "nbformat": 4,
 "nbformat_minor": 5
}
